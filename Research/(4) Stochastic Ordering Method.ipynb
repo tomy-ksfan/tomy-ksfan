{
 "cells": [
  {
   "cell_type": "code",
   "execution_count": 49,
   "metadata": {},
   "outputs": [],
   "source": [
    "import numpy as np\n",
    "import pandas as pd\n",
    "from sklearn.metrics import roc_auc_score\n",
    "from sklearn import metrics\n",
    "import warnings\n",
    "warnings.filterwarnings(\"ignore\")"
   ]
  },
  {
   "cell_type": "code",
   "execution_count": 61,
   "metadata": {},
   "outputs": [],
   "source": [
    "def transform_percentage(data_origin, col, piece):\n",
    "    position_0 = min(data_origin[col])-2\n",
    "    data = data_origin\n",
    "    trans = np.zeros(len(data_origin[col]))\n",
    "    gap = int(len(data_origin[col])/piece)\n",
    "    #for i in range(len(data_origin[col])):\n",
    "        #print(i)\n",
    "    for k in range(piece):\n",
    "        if k == piece-1:\n",
    "            #print('position_0',position_0)\n",
    "            position_1 = max(data[col])\n",
    "            #print('position_1',position_1)\n",
    "            range_data = data[data[col].between(position_0+1, position_1)]\n",
    "            #print(range_data)\n",
    "        else:\n",
    "            position = min(gap*(k+1), len(data[col]))\n",
    "            position_1 = sorted(data[col])[position]\n",
    "            #print(position)\n",
    "            #print('position_0+1',position_0+1)\n",
    "            #print('position_1',position_1)\n",
    "            range_data = data[data[col].between(position_0+1, position_1)]\n",
    "            #print(range_data)\n",
    "            position_0 = position_1\n",
    "        for i in range(range_data.shape[0]):\n",
    "            trans[range_data.index[i]]=k\n",
    "        #print(data[col])\n",
    "    data[col] = trans\n",
    "    #return data"
   ]
  },
  {
   "cell_type": "code",
   "execution_count": 4,
   "metadata": {},
   "outputs": [],
   "source": [
    "def categorical_transform(data, col):\n",
    "    count = pd.DataFrame(data[col].value_counts())\n",
    "    class_mapping = {}\n",
    "    for i in range(count.shape[0]):\n",
    "        add = {count.index[i]:i}\n",
    "        class_mapping.update(add)\n",
    "    data[col] = data[col].map(class_mapping)"
   ]
  },
  {
   "cell_type": "code",
   "execution_count": 17,
   "metadata": {},
   "outputs": [],
   "source": [
    "def transform_numerical(data_origin, col, numerical):\n",
    "    data = data_origin\n",
    "    data[col] = data[col].map(lambda x:x*numerical)\n",
    "    data[col] = data[col].astype(int)\n",
    "    #data[col] = data[col].map(lambda x:x*numerical)\n",
    "    #return data"
   ]
  },
  {
   "cell_type": "code",
   "execution_count": 16,
   "metadata": {},
   "outputs": [],
   "source": [
    "def train_test_ch(data, test, col, binary_class):\n",
    "    #result = pd.DataFrame()\n",
    "    feature = data.loc[:, [col]]\n",
    "    feature_count = feature[col].value_counts()\n",
    "    feature_pd = pd.DataFrame(feature_count)\n",
    "    feature_reset = feature_pd.reset_index()\n",
    "    feature_sort = feature_reset.sort_values(by='index')\n",
    "    \n",
    "    feature_1 = data[data[binary_class] == 1]\n",
    "    feature_1 = feature_1.loc[:, [col]]\n",
    "    feature_1_count = feature_1[col].value_counts()\n",
    "    feature_1_pd = pd.DataFrame(feature_1_count)\n",
    "    feature_1_reset = feature_1_pd.reset_index()\n",
    "    feature_1_sort = feature_1_reset.sort_values(by='index')\n",
    "    \n",
    "    feature_merge = pd.merge(feature_sort, feature_1_sort, on='index', how='left')\n",
    "    feature_fill = feature_merge.fillna(0)\n",
    "    feature_fill = feature_fill.rename(columns={'index':col})\n",
    "    #print(feature_fill)\n",
    "    #del feature_fill[col+'_x']\n",
    "    #del feature_fill[col+'_y']\n",
    "    #feature_fill[col+'_fraud_ratio'] = feature_fill[col+'_y']/feature_fill[col+'_x']\n",
    "    result_0 = pd.DataFrame(feature_fill.iloc[:,2]/feature_fill.iloc[:,1], columns = [col+'_fraud_ratio'])\n",
    "    result_1 = pd.concat([feature_fill[[col]], result_0], axis = 1)\n",
    "    describe_pd = pd.DataFrame(result_0[col+'_fraud_ratio'].describe())\n",
    "    fill = describe_pd.loc['mean', col+'_fraud_ratio']\n",
    "    #result = pd.concat([result, feature_fill[[col]], result_0], axis = 1)\n",
    "    train = pd.merge(data, result_1, on = col, how = 'left')\n",
    "    test = pd.merge(test, result_1, on = col, how = 'left')\n",
    "    test = test.fillna(fill)\n",
    "    #print(test)\n",
    "    return train, test"
   ]
  },
  {
   "cell_type": "code",
   "execution_count": 26,
   "metadata": {},
   "outputs": [],
   "source": [
    "def final_data_train_test(train, test, binary_class):\n",
    "    final_train = train\n",
    "    final_test = test\n",
    "    final_train['Ratio'] = 1\n",
    "    final_test['Ratio'] = 1\n",
    "    for i in range(train.shape[1]-2):\n",
    "        final_train = train_test_ch(final_train, final_test, train.columns[i], binary_class)[0]\n",
    "        final_test = train_test_ch(final_train, final_test, train.columns[i], binary_class)[1]\n",
    "        #del new_feature[data.columns[i]+'_x']\n",
    "        #del new_feature[data.columns[i]+'_y']\n",
    "        #final = pd.merge(final, new_feature, on = data.columns[i], how = 'left')\n",
    "        #print(final_train)\n",
    "        final_train['Ratio'] = final_train['Ratio']*final_train[train.columns[i]+'_fraud_ratio']\n",
    "        final_test['Ratio'] = final_test['Ratio']*final_test[test.columns[i]+'_fraud_ratio']\n",
    "    return final_train, final_test"
   ]
  },
  {
   "cell_type": "code",
   "execution_count": 38,
   "metadata": {},
   "outputs": [],
   "source": [
    "def result(data, threshold, binary_class):\n",
    "    predict = np.array(data['Ratio'])\n",
    "    for i in range(0,data.shape[0]):\n",
    "        if predict[i] >= threshold:\n",
    "            predict[i]=1\n",
    "        else:\n",
    "            predict[i]=0\n",
    "    y_true = data[binary_class]\n",
    "    y_pred = predict\n",
    "    auc = round(roc_auc_score(y_true, data['Ratio']),4)\n",
    "    f1_score = round(metrics.f1_score(y_true, y_pred),4)\n",
    "    accuracy = round(metrics.accuracy_score(y_true, y_pred),4)\n",
    "    precision = round(metrics.precision_score(y_true, y_pred),4)\n",
    "    recall = round(metrics.recall_score(y_true, y_pred),4)\n",
    "    print('Accuracy:', accuracy)\n",
    "    print('Precision:', precision)\n",
    "    print('Recall:', recall)\n",
    "    print('F1-score:', f1_score)\n",
    "    print('AUC:', auc)"
   ]
  },
  {
   "cell_type": "code",
   "execution_count": 73,
   "metadata": {},
   "outputs": [],
   "source": [
    "def data_analysis_train_test(data, binary_class):\n",
    "    x_train = data_d[data_d['locdt'] <= 70]\n",
    "    x_test = data_d[data_d['locdt'] > 70]\n",
    "    x_train = x_train.drop('locdt', axis=1)\n",
    "    x_test = x_test.drop('locdt', axis=1)\n",
    "    y_train = train[binary_class]\n",
    "    y_test = test[binary_class]\n",
    "    #x_train = train.drop([binary_class], axis = 1)\n",
    "    #x_test = test.drop([binary_class], axis = 1)\n",
    "    final_train = final_data_train_test(x_train, x_test, binary_class)[0]\n",
    "    final_test = final_data_train_test(x_train, x_test, binary_class)[1]\n",
    "    describe_train_pd = pd.DataFrame(final_train['Ratio'].describe())\n",
    "    describe_test_pd = pd.DataFrame(final_test['Ratio'].describe())\n",
    "    threshold_train = describe_train_pd.loc['mean','Ratio']\n",
    "    threshold_test = describe_test_pd.loc['mean','Ratio']\n",
    "    #final_data_train = final_data(x_train, binary_class)\n",
    "    #describe_pd = pd.DataFrame(final_data_train['Ratio'].describe())\n",
    "    #threshold = describe_pd.loc['75%','Ratio']\n",
    "    print('Train data result','\\n')\n",
    "    result(final_train, threshold_train, binary_class)\n",
    "    print('\\n')\n",
    "    #final_data_test = final_data(x_test, binary_class)\n",
    "    print('Test data result','\\n')\n",
    "    result(final_test, threshold_test, binary_class)"
   ]
  },
  {
   "cell_type": "code",
   "execution_count": 65,
   "metadata": {},
   "outputs": [],
   "source": [
    "data = pd.read_csv('train.csv')"
   ]
  },
  {
   "cell_type": "code",
   "execution_count": 66,
   "metadata": {},
   "outputs": [],
   "source": [
    "data_d = data.drop(['acqic', 'bacno', 'cano', 'txkey', 'flbmk', 'flg_3dsmk'], axis = 1)"
   ]
  },
  {
   "cell_type": "code",
   "execution_count": 67,
   "metadata": {},
   "outputs": [],
   "source": [
    "categorical_transform(data_d, 'ecfg')\n",
    "categorical_transform(data_d, 'insfg')\n",
    "categorical_transform(data_d, 'ovrlt')"
   ]
  },
  {
   "cell_type": "code",
   "execution_count": 27,
   "metadata": {},
   "outputs": [
    {
     "data": {
      "text/html": [
       "<div>\n",
       "<style scoped>\n",
       "    .dataframe tbody tr th:only-of-type {\n",
       "        vertical-align: middle;\n",
       "    }\n",
       "\n",
       "    .dataframe tbody tr th {\n",
       "        vertical-align: top;\n",
       "    }\n",
       "\n",
       "    .dataframe thead th {\n",
       "        text-align: right;\n",
       "    }\n",
       "</style>\n",
       "<table border=\"1\" class=\"dataframe\">\n",
       "  <thead>\n",
       "    <tr style=\"text-align: right;\">\n",
       "      <th></th>\n",
       "      <th>conam</th>\n",
       "      <th>contp</th>\n",
       "      <th>csmcu</th>\n",
       "      <th>ecfg</th>\n",
       "      <th>etymd</th>\n",
       "      <th>fraud_ind</th>\n",
       "      <th>hcefg</th>\n",
       "      <th>insfg</th>\n",
       "      <th>iterm</th>\n",
       "      <th>locdt</th>\n",
       "      <th>loctm</th>\n",
       "      <th>mcc</th>\n",
       "      <th>mchno</th>\n",
       "      <th>ovrlt</th>\n",
       "      <th>scity</th>\n",
       "      <th>stocn</th>\n",
       "      <th>stscd</th>\n",
       "    </tr>\n",
       "  </thead>\n",
       "  <tbody>\n",
       "    <tr>\n",
       "      <th>0</th>\n",
       "      <td>5</td>\n",
       "      <td>5</td>\n",
       "      <td>0</td>\n",
       "      <td>0</td>\n",
       "      <td>0</td>\n",
       "      <td>0</td>\n",
       "      <td>5</td>\n",
       "      <td>0</td>\n",
       "      <td>0</td>\n",
       "      <td>33</td>\n",
       "      <td>17</td>\n",
       "      <td>45</td>\n",
       "      <td>59</td>\n",
       "      <td>0</td>\n",
       "      <td>0</td>\n",
       "      <td>102</td>\n",
       "      <td>0</td>\n",
       "    </tr>\n",
       "    <tr>\n",
       "      <th>1</th>\n",
       "      <td>4</td>\n",
       "      <td>5</td>\n",
       "      <td>0</td>\n",
       "      <td>0</td>\n",
       "      <td>2</td>\n",
       "      <td>0</td>\n",
       "      <td>0</td>\n",
       "      <td>0</td>\n",
       "      <td>0</td>\n",
       "      <td>9</td>\n",
       "      <td>10</td>\n",
       "      <td>45</td>\n",
       "      <td>0</td>\n",
       "      <td>0</td>\n",
       "      <td>5817</td>\n",
       "      <td>102</td>\n",
       "      <td>0</td>\n",
       "    </tr>\n",
       "    <tr>\n",
       "      <th>2</th>\n",
       "      <td>5</td>\n",
       "      <td>5</td>\n",
       "      <td>0</td>\n",
       "      <td>0</td>\n",
       "      <td>0</td>\n",
       "      <td>0</td>\n",
       "      <td>5</td>\n",
       "      <td>0</td>\n",
       "      <td>0</td>\n",
       "      <td>6</td>\n",
       "      <td>15</td>\n",
       "      <td>45</td>\n",
       "      <td>59</td>\n",
       "      <td>0</td>\n",
       "      <td>0</td>\n",
       "      <td>102</td>\n",
       "      <td>0</td>\n",
       "    </tr>\n",
       "    <tr>\n",
       "      <th>3</th>\n",
       "      <td>10</td>\n",
       "      <td>5</td>\n",
       "      <td>62</td>\n",
       "      <td>0</td>\n",
       "      <td>5</td>\n",
       "      <td>0</td>\n",
       "      <td>5</td>\n",
       "      <td>0</td>\n",
       "      <td>0</td>\n",
       "      <td>5</td>\n",
       "      <td>17</td>\n",
       "      <td>24</td>\n",
       "      <td>50</td>\n",
       "      <td>0</td>\n",
       "      <td>3281</td>\n",
       "      <td>102</td>\n",
       "      <td>0</td>\n",
       "    </tr>\n",
       "    <tr>\n",
       "      <th>4</th>\n",
       "      <td>7</td>\n",
       "      <td>5</td>\n",
       "      <td>62</td>\n",
       "      <td>0</td>\n",
       "      <td>4</td>\n",
       "      <td>0</td>\n",
       "      <td>5</td>\n",
       "      <td>0</td>\n",
       "      <td>0</td>\n",
       "      <td>6</td>\n",
       "      <td>18</td>\n",
       "      <td>26</td>\n",
       "      <td>93</td>\n",
       "      <td>0</td>\n",
       "      <td>5817</td>\n",
       "      <td>102</td>\n",
       "      <td>0</td>\n",
       "    </tr>\n",
       "  </tbody>\n",
       "</table>\n",
       "</div>"
      ],
      "text/plain": [
       "   conam  contp  csmcu  ecfg  etymd  fraud_ind  hcefg  insfg  iterm  locdt  \\\n",
       "0      5      5      0     0      0          0      5      0      0     33   \n",
       "1      4      5      0     0      2          0      0      0      0      9   \n",
       "2      5      5      0     0      0          0      5      0      0      6   \n",
       "3     10      5     62     0      5          0      5      0      0      5   \n",
       "4      7      5     62     0      4          0      5      0      0      6   \n",
       "\n",
       "   loctm  mcc  mchno  ovrlt  scity  stocn  stscd  \n",
       "0     17   45     59      0      0    102      0  \n",
       "1     10   45      0      0   5817    102      0  \n",
       "2     15   45     59      0      0    102      0  \n",
       "3     17   24     50      0   3281    102      0  \n",
       "4     18   26     93      0   5817    102      0  "
      ]
     },
     "execution_count": 27,
     "metadata": {},
     "output_type": "execute_result"
    }
   ],
   "source": [
    "data_d.head()"
   ]
  },
  {
   "cell_type": "code",
   "execution_count": 68,
   "metadata": {},
   "outputs": [],
   "source": [
    "transform_numerical(data_d, 'mcc', 1/10)"
   ]
  },
  {
   "cell_type": "code",
   "execution_count": 69,
   "metadata": {
    "scrolled": true
   },
   "outputs": [],
   "source": [
    "transform_numerical(data_d, 'mchno', 1/1000)"
   ]
  },
  {
   "cell_type": "code",
   "execution_count": 70,
   "metadata": {
    "scrolled": true
   },
   "outputs": [],
   "source": [
    "transform_numerical(data_d, 'loctm', 1/10000)"
   ]
  },
  {
   "cell_type": "code",
   "execution_count": 24,
   "metadata": {
    "scrolled": true
   },
   "outputs": [],
   "source": [
    "#transform_numerical(data_d, 'conam', 1/100)"
   ]
  },
  {
   "cell_type": "code",
   "execution_count": 48,
   "metadata": {},
   "outputs": [],
   "source": [
    "#transform_numerical(data_d, 'conam', 100)"
   ]
  },
  {
   "cell_type": "code",
   "execution_count": 71,
   "metadata": {
    "scrolled": true
   },
   "outputs": [],
   "source": [
    "transform_percentage(data_d, 'conam', 10)"
   ]
  },
  {
   "cell_type": "code",
   "execution_count": 72,
   "metadata": {},
   "outputs": [],
   "source": [
    "fraud = data_d.loc[:,['fraud_ind']]"
   ]
  },
  {
   "cell_type": "code",
   "execution_count": 74,
   "metadata": {},
   "outputs": [],
   "source": [
    "data_d = data_d.drop(['fraud_ind'], axis = 1)\n",
    "data_d = pd.concat([data_d, fraud], axis = 1)"
   ]
  },
  {
   "cell_type": "code",
   "execution_count": 75,
   "metadata": {},
   "outputs": [
    {
     "data": {
      "text/html": [
       "<div>\n",
       "<style scoped>\n",
       "    .dataframe tbody tr th:only-of-type {\n",
       "        vertical-align: middle;\n",
       "    }\n",
       "\n",
       "    .dataframe tbody tr th {\n",
       "        vertical-align: top;\n",
       "    }\n",
       "\n",
       "    .dataframe thead th {\n",
       "        text-align: right;\n",
       "    }\n",
       "</style>\n",
       "<table border=\"1\" class=\"dataframe\">\n",
       "  <thead>\n",
       "    <tr style=\"text-align: right;\">\n",
       "      <th></th>\n",
       "      <th>conam</th>\n",
       "      <th>contp</th>\n",
       "      <th>csmcu</th>\n",
       "      <th>ecfg</th>\n",
       "      <th>etymd</th>\n",
       "      <th>hcefg</th>\n",
       "      <th>insfg</th>\n",
       "      <th>iterm</th>\n",
       "      <th>locdt</th>\n",
       "      <th>loctm</th>\n",
       "      <th>mcc</th>\n",
       "      <th>mchno</th>\n",
       "      <th>ovrlt</th>\n",
       "      <th>scity</th>\n",
       "      <th>stocn</th>\n",
       "      <th>stscd</th>\n",
       "      <th>fraud_ind</th>\n",
       "    </tr>\n",
       "  </thead>\n",
       "  <tbody>\n",
       "    <tr>\n",
       "      <th>0</th>\n",
       "      <td>3.0</td>\n",
       "      <td>5</td>\n",
       "      <td>0</td>\n",
       "      <td>0</td>\n",
       "      <td>0</td>\n",
       "      <td>5</td>\n",
       "      <td>0</td>\n",
       "      <td>0</td>\n",
       "      <td>33</td>\n",
       "      <td>17</td>\n",
       "      <td>45</td>\n",
       "      <td>59</td>\n",
       "      <td>0</td>\n",
       "      <td>0</td>\n",
       "      <td>102</td>\n",
       "      <td>0</td>\n",
       "      <td>0</td>\n",
       "    </tr>\n",
       "    <tr>\n",
       "      <th>1</th>\n",
       "      <td>2.0</td>\n",
       "      <td>5</td>\n",
       "      <td>0</td>\n",
       "      <td>0</td>\n",
       "      <td>2</td>\n",
       "      <td>0</td>\n",
       "      <td>0</td>\n",
       "      <td>0</td>\n",
       "      <td>9</td>\n",
       "      <td>10</td>\n",
       "      <td>45</td>\n",
       "      <td>0</td>\n",
       "      <td>0</td>\n",
       "      <td>5817</td>\n",
       "      <td>102</td>\n",
       "      <td>0</td>\n",
       "      <td>0</td>\n",
       "    </tr>\n",
       "    <tr>\n",
       "      <th>2</th>\n",
       "      <td>3.0</td>\n",
       "      <td>5</td>\n",
       "      <td>0</td>\n",
       "      <td>0</td>\n",
       "      <td>0</td>\n",
       "      <td>5</td>\n",
       "      <td>0</td>\n",
       "      <td>0</td>\n",
       "      <td>6</td>\n",
       "      <td>15</td>\n",
       "      <td>45</td>\n",
       "      <td>59</td>\n",
       "      <td>0</td>\n",
       "      <td>0</td>\n",
       "      <td>102</td>\n",
       "      <td>0</td>\n",
       "      <td>0</td>\n",
       "    </tr>\n",
       "    <tr>\n",
       "      <th>3</th>\n",
       "      <td>8.0</td>\n",
       "      <td>5</td>\n",
       "      <td>62</td>\n",
       "      <td>0</td>\n",
       "      <td>5</td>\n",
       "      <td>5</td>\n",
       "      <td>0</td>\n",
       "      <td>0</td>\n",
       "      <td>5</td>\n",
       "      <td>17</td>\n",
       "      <td>24</td>\n",
       "      <td>50</td>\n",
       "      <td>0</td>\n",
       "      <td>3281</td>\n",
       "      <td>102</td>\n",
       "      <td>0</td>\n",
       "      <td>0</td>\n",
       "    </tr>\n",
       "    <tr>\n",
       "      <th>4</th>\n",
       "      <td>6.0</td>\n",
       "      <td>5</td>\n",
       "      <td>62</td>\n",
       "      <td>0</td>\n",
       "      <td>4</td>\n",
       "      <td>5</td>\n",
       "      <td>0</td>\n",
       "      <td>0</td>\n",
       "      <td>6</td>\n",
       "      <td>18</td>\n",
       "      <td>26</td>\n",
       "      <td>93</td>\n",
       "      <td>0</td>\n",
       "      <td>5817</td>\n",
       "      <td>102</td>\n",
       "      <td>0</td>\n",
       "      <td>0</td>\n",
       "    </tr>\n",
       "  </tbody>\n",
       "</table>\n",
       "</div>"
      ],
      "text/plain": [
       "   conam  contp  csmcu  ecfg  etymd  hcefg  insfg  iterm  locdt  loctm  mcc  \\\n",
       "0    3.0      5      0     0      0      5      0      0     33     17   45   \n",
       "1    2.0      5      0     0      2      0      0      0      9     10   45   \n",
       "2    3.0      5      0     0      0      5      0      0      6     15   45   \n",
       "3    8.0      5     62     0      5      5      0      0      5     17   24   \n",
       "4    6.0      5     62     0      4      5      0      0      6     18   26   \n",
       "\n",
       "   mchno  ovrlt  scity  stocn  stscd  fraud_ind  \n",
       "0     59      0      0    102      0          0  \n",
       "1      0      0   5817    102      0          0  \n",
       "2     59      0      0    102      0          0  \n",
       "3     50      0   3281    102      0          0  \n",
       "4     93      0   5817    102      0          0  "
      ]
     },
     "execution_count": 75,
     "metadata": {},
     "output_type": "execute_result"
    }
   ],
   "source": [
    "data_d.head()"
   ]
  },
  {
   "cell_type": "code",
   "execution_count": 76,
   "metadata": {},
   "outputs": [
    {
     "name": "stdout",
     "output_type": "stream",
     "text": [
      "Train data result \n",
      "\n",
      "Accuracy: 0.9867\n",
      "Precision: 0.5733\n",
      "Recall: 0.3318\n",
      "F1-score: 0.4204\n",
      "AUC: 0.9647\n",
      "\n",
      "\n",
      "Test data result \n",
      "\n",
      "Accuracy: 0.9894\n",
      "Precision: 0.4035\n",
      "Recall: 0.256\n",
      "F1-score: 0.3132\n",
      "AUC: 0.9186\n"
     ]
    }
   ],
   "source": [
    "data_analysis_train_test(data_d, 'fraud_ind')"
   ]
  },
  {
   "cell_type": "code",
   "execution_count": null,
   "metadata": {},
   "outputs": [],
   "source": []
  },
  {
   "cell_type": "code",
   "execution_count": null,
   "metadata": {},
   "outputs": [],
   "source": []
  },
  {
   "cell_type": "code",
   "execution_count": null,
   "metadata": {},
   "outputs": [],
   "source": []
  },
  {
   "cell_type": "code",
   "execution_count": null,
   "metadata": {},
   "outputs": [],
   "source": []
  },
  {
   "cell_type": "code",
   "execution_count": null,
   "metadata": {},
   "outputs": [],
   "source": []
  },
  {
   "cell_type": "markdown",
   "metadata": {},
   "source": [
    "old code"
   ]
  },
  {
   "cell_type": "code",
   "execution_count": 47,
   "metadata": {},
   "outputs": [
    {
     "data": {
      "text/plain": [
       "(1184411, 18)"
      ]
     },
     "execution_count": 47,
     "metadata": {},
     "output_type": "execute_result"
    }
   ],
   "source": [
    "data_d.shape"
   ]
  },
  {
   "cell_type": "code",
   "execution_count": 48,
   "metadata": {},
   "outputs": [],
   "source": [
    "result = pd.DataFrame()\n",
    "#for col in ['contp', 'csmcu', 'etymd', 'mcc', 'hcefg', 'stocn', 'scity']:\n",
    "data_m = data_d\n",
    "for col in ['stocn', 'csmcu', 'etymd', 'mcc', 'mchno', 'loctm', 'conam']:\n",
    "    data_d_count = data_d[col].value_counts()\n",
    "    data_d_pd = pd.DataFrame(data_d_count)\n",
    "    data_d_reset = data_d_pd.reset_index()\n",
    "    data_d_sort = data_d_reset.sort_values(by='index')\n",
    "    \n",
    "    data_d_1 = data_d[data_d['fraud_ind'] == 1]\n",
    "    data_d_1 = data_d_1.loc[:,[col]]\n",
    "    data_d_1_count = data_d_1[col].value_counts()\n",
    "    data_d_1_pd = pd.DataFrame(data_d_1_count)\n",
    "    data_d_1_reset = data_d_1_pd.reset_index()\n",
    "    data_d_1_sort = data_d_1_reset.sort_values(by='index')\n",
    "\n",
    "    data_d_merge = pd.merge(data_d_sort,data_d_1_sort,on = 'index',how = 'left')\n",
    "    data_d_fill = data_d_merge.fillna(0)\n",
    "    \n",
    "    data_d_fill = data_d_fill.rename(columns = {'index': col})\n",
    "    \n",
    "    result_0 = pd.DataFrame(data_d_fill.iloc[:,2]/data_d_fill.iloc[:,1], columns = [col+'_pro'])\n",
    "    result_1 = pd.concat([data_d_fill[[col]], result_0], axis = 1)\n",
    "    \n",
    "    result = pd.concat([result, data_d_fill[[col]], result_0], axis = 1)\n",
    "    \n",
    "    data_m = pd.merge(data_m, result_1, on = col, how = 'left')\n",
    "    x_test = pd.merge(x_test, result_1, on = col, how = 'left')\n"
   ]
  },
  {
   "cell_type": "code",
   "execution_count": 49,
   "metadata": {},
   "outputs": [],
   "source": [
    "data_m['pro'] = data_m['stocn_pro']*data_m['csmcu_pro']*data_m['etymd_pro']*data_m['mcc_pro']*data_m['mchno_pro']*data_m['loctm_pro']*data_m['conam_pro']\n",
    "x_test['pro'] = x_test['stocn_pro']*x_test['csmcu_pro']*x_test['etymd_pro']*x_test['mcc_pro']*x_test['mchno_pro']*x_test['loctm_pro']*x_test['conam_pro']"
   ]
  },
  {
   "cell_type": "code",
   "execution_count": 50,
   "metadata": {},
   "outputs": [
    {
     "data": {
      "text/plain": [
       "count    1.184411e+06\n",
       "mean     2.725680e-10\n",
       "std      5.407398e-09\n",
       "min      0.000000e+00\n",
       "25%      5.484526e-19\n",
       "50%      6.191372e-18\n",
       "75%      3.720928e-16\n",
       "max      3.240382e-07\n",
       "Name: pro, dtype: float64"
      ]
     },
     "execution_count": 50,
     "metadata": {},
     "output_type": "execute_result"
    }
   ],
   "source": [
    "data_m['pro'].describe()"
   ]
  },
  {
   "cell_type": "code",
   "execution_count": 51,
   "metadata": {},
   "outputs": [
    {
     "data": {
      "text/plain": [
       "count    3.373560e+05\n",
       "mean     2.002471e-10\n",
       "std      4.842952e-09\n",
       "min      0.000000e+00\n",
       "25%      4.998366e-19\n",
       "50%      4.048939e-18\n",
       "75%      1.689769e-16\n",
       "max      3.141390e-07\n",
       "Name: pro, dtype: float64"
      ]
     },
     "execution_count": 51,
     "metadata": {},
     "output_type": "execute_result"
    }
   ],
   "source": [
    "x_test['pro'].describe()"
   ]
  },
  {
   "cell_type": "code",
   "execution_count": 13,
   "metadata": {},
   "outputs": [
    {
     "data": {
      "text/plain": [
       "count    3.373560e+05\n",
       "mean     2.002471e-10\n",
       "std      4.842952e-09\n",
       "min      0.000000e+00\n",
       "25%      4.998366e-19\n",
       "50%      4.048939e-18\n",
       "75%      1.689769e-16\n",
       "max      3.141390e-07\n",
       "Name: pro, dtype: float64"
      ]
     },
     "execution_count": 13,
     "metadata": {},
     "output_type": "execute_result"
    }
   ],
   "source": [
    "x_test['pro'].describe()"
   ]
  },
  {
   "cell_type": "code",
   "execution_count": 65,
   "metadata": {},
   "outputs": [],
   "source": [
    "pro1 = np.array(data_m['fraud_ind_1'])\n",
    "pro2 = np.array(data_m['pro'])\n",
    "#data_m['stocn_pro']*data_m['csmcu_pro']*data_m['etymd_pro']*data_m['mcc_pro']\n",
    "#*data_m['mchno_pro']*data_m['loctm_pro']*data_m['conam_pro']\n",
    "pro3 = np.array(data_m['stocn_pro'])\n",
    "pro4 = np.array(data_m['csmcu_pro'])\n",
    "pro5 = np.array(data_m['etymd_pro'])\n",
    "pro6 = np.array(data_m['mcc_pro'])\n",
    "pro7 = np.array(data_m['mchno_pro'])\n",
    "pro8 = np.array(data_m['loctm_pro'])\n",
    "pro9 = np.array(data_m['conam_pro'])\n",
    "for i in range(len(pro1)):\n",
    "    if pro2[i] >= 2.725680e-10:\n",
    "        pro1[i]=1 \n",
    "    else:\n",
    "        pro1[i]=0\n",
    "#for i in range(len(pro1)):\n",
    "#    if pro3[i] or pro4[i] or pro5[i] or pro6[i] or pro7[i] or pro8[i] or pro9[i] == 0:\n",
    "#        pro1[i] =0\n",
    "#    elif pro3[i] or pro4[i] or pro5[i] or pro6[i] or pro7[i] or pro8[i] or pro9[i] == 1:\n",
    "#        pro1[i] = 1\n",
    "        \n",
    "        "
   ]
  },
  {
   "cell_type": "code",
   "execution_count": 66,
   "metadata": {},
   "outputs": [
    {
     "name": "stdout",
     "output_type": "stream",
     "text": [
      "0.0    1158453\n",
      "1.0      25958\n",
      "Name: result, dtype: int64\n"
     ]
    }
   ],
   "source": [
    "x = pd.DataFrame(pro1,columns=['result'])\n",
    "print(x['result'].value_counts())"
   ]
  },
  {
   "cell_type": "code",
   "execution_count": 67,
   "metadata": {},
   "outputs": [],
   "source": [
    "pro01 = np.array(x_test['fraud_ind_1'])\n",
    "pro02 = np.array(x_test['pro'])\n",
    "pro03 = np.array(x_test['stocn_pro'])\n",
    "pro04 = np.array(x_test['csmcu_pro'])\n",
    "pro05 = np.array(x_test['etymd_pro'])\n",
    "pro06 = np.array(x_test['mcc_pro'])\n",
    "pro07 = np.array(x_test['mchno_pro'])\n",
    "pro08 = np.array(x_test['loctm_pro'])\n",
    "pro09 = np.array(x_test['conam_pro'])\n",
    "\n",
    "for i in range(len(pro01)):\n",
    "    if pro02[i] >= 2.002471e-10:\n",
    "        pro01[i]=1\n",
    "    else:\n",
    "        pro01[i]=0\n",
    "#for i in range(len(pro01)):\n",
    "#    if pro03[i] or pro04[i] or pro05[i] or pro06[i] or pro07[i] or pro08[i] or pro09[i] == 0:\n",
    "#        pro01[i] =0\n",
    "#    elif pro03[i] or pro04[i] or pro05[i] or pro06[i] or pro07[i] or pro08[i] or pro09[i] == 1:\n",
    "#        pro01[i] = 1\n",
    "        "
   ]
  },
  {
   "cell_type": "code",
   "execution_count": 54,
   "metadata": {},
   "outputs": [],
   "source": [
    "y  = test['fraud_ind'].reset_index()"
   ]
  },
  {
   "cell_type": "code",
   "execution_count": 55,
   "metadata": {},
   "outputs": [],
   "source": [
    "data_m['fraud_ind_1'] = data_m['fraud_ind_1'].fillna(0)"
   ]
  },
  {
   "cell_type": "code",
   "execution_count": 68,
   "metadata": {},
   "outputs": [
    {
     "name": "stdout",
     "output_type": "stream",
     "text": [
      "AUC: 0.9551\n",
      "F1-score: 0.3762\n",
      "Accuracy: 0.9773\n",
      "Precision: 0.3125\n",
      "Recall: 0.4725\n"
     ]
    }
   ],
   "source": [
    "from sklearn.metrics import roc_auc_score\n",
    "from sklearn import metrics\n",
    "y_true = data_m['fraud_ind']\n",
    "y_pred = pro1\n",
    "auc = round(roc_auc_score(y_true, data_m['pro']),4)\n",
    "f1_score = round(metrics.f1_score(y_true, y_pred),4)\n",
    "accuracy = round(metrics.accuracy_score(y_true, y_pred),4)\n",
    "precision = round(metrics.precision_score(y_true, y_pred),4)\n",
    "recall = round(metrics.recall_score(y_true, y_pred),4)\n",
    "print('AUC:', auc)\n",
    "print('F1-score:', f1_score)\n",
    "print('Accuracy:', accuracy)\n",
    "print('Precision:', precision)\n",
    "print('Recall:', recall)"
   ]
  },
  {
   "cell_type": "code",
   "execution_count": null,
   "metadata": {},
   "outputs": [],
   "source": [
    "AUC: 0.9551\n",
    "F1-score: 0.3762\n",
    "Accuracy: 0.9773\n",
    "Precision: 0.3125\n",
    "Recall: 0.4725"
   ]
  },
  {
   "cell_type": "code",
   "execution_count": 71,
   "metadata": {},
   "outputs": [
    {
     "name": "stdout",
     "output_type": "stream",
     "text": [
      "AUC: 0.9261\n",
      "F1-score: 0.248\n",
      "Accuracy: 0.9782\n",
      "Precision: 0.1837\n",
      "Recall: 0.3816\n"
     ]
    }
   ],
   "source": [
    "y_true = y['fraud_ind']\n",
    "y_pred = pro01\n",
    "auc = round(roc_auc_score(y_true, x_test['pro']),4)\n",
    "f1_score = round(metrics.f1_score(y_true, y_pred),4)\n",
    "accuracy = round(metrics.accuracy_score(y_true, y_pred),4)\n",
    "precision = round(metrics.precision_score(y_true, y_pred),4)\n",
    "recall = round(metrics.recall_score(y_true, y_pred),4)\n",
    "print('AUC:', auc)\n",
    "print('F1-score:', f1_score)\n",
    "print('Accuracy:', accuracy)\n",
    "print('Precision:', precision)\n",
    "print('Recall:', recall)"
   ]
  },
  {
   "cell_type": "code",
   "execution_count": null,
   "metadata": {},
   "outputs": [],
   "source": [
    "AUC: 0.9262\n",
    "F1-score: 0.248\n",
    "Accuracy: 0.9782\n",
    "Precision: 0.1837\n",
    "Recall: 0.3816"
   ]
  }
 ],
 "metadata": {
  "kernelspec": {
   "display_name": "Python 3",
   "language": "python",
   "name": "python3"
  },
  "language_info": {
   "codemirror_mode": {
    "name": "ipython",
    "version": 3
   },
   "file_extension": ".py",
   "mimetype": "text/x-python",
   "name": "python",
   "nbconvert_exporter": "python",
   "pygments_lexer": "ipython3",
   "version": "3.7.3"
  }
 },
 "nbformat": 4,
 "nbformat_minor": 2
}
