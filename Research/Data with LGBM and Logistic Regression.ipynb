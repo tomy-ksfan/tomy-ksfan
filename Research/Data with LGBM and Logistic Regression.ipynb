{
 "cells": [
  {
   "cell_type": "code",
   "execution_count": 1,
   "metadata": {},
   "outputs": [],
   "source": [
    "import pandas as pd\n",
    "import numpy as np\n",
    "import random\n",
    "from time import time\n",
    "import lightgbm as lgb\n",
    "from lightgbm.sklearn import LGBMClassifier\n",
    "from sklearn import metrics\n",
    "from sklearn.metrics import roc_curve, auc, confusion_matrix, classification_report, f1_score\n",
    "from sklearn.preprocessing import PolynomialFeatures\n",
    "import warnings\n",
    "from sklearn.linear_model import LogisticRegression\n",
    "import matplotlib.pyplot as plt"
   ]
  },
  {
   "cell_type": "code",
   "execution_count": 2,
   "metadata": {},
   "outputs": [],
   "source": [
    "data = pd.read_csv('X.csv')\n",
    "X = pd.read_csv('default of credit card clients.csv')"
   ]
  },
  {
   "cell_type": "code",
   "execution_count": 3,
   "metadata": {},
   "outputs": [],
   "source": [
    "data = data.drop('Unnamed: 0', axis = 1)\n",
    "pay_ori = X.iloc[:,6:12]\n",
    "data = pd.concat([data, pay_ori], axis = 1)"
   ]
  },
  {
   "cell_type": "code",
   "execution_count": 4,
   "metadata": {},
   "outputs": [],
   "source": [
    "x_train = data.reset_index()"
   ]
  },
  {
   "cell_type": "code",
   "execution_count": 5,
   "metadata": {},
   "outputs": [],
   "source": [
    "pay_tr = x_train.iloc[:,24:82]\n",
    "x_train = x_train.drop(x_train.columns[24:82], axis = 1)"
   ]
  },
  {
   "cell_type": "code",
   "execution_count": 6,
   "metadata": {},
   "outputs": [],
   "source": [
    "bill_train1 = np.array(x_train['BILL_AMT1'])\n",
    "bill_train2 = np.array(x_train['BILL_AMT2'])\n",
    "bill_train3 = np.array(x_train['BILL_AMT3'])\n",
    "bill_train4 = np.array(x_train['BILL_AMT4'])\n",
    "bill_train5 = np.array(x_train['BILL_AMT5'])\n",
    "bill_train6 = np.array(x_train['BILL_AMT6'])\n",
    "\n",
    "for i in range(len(x_train['BILL_AMT1'])):\n",
    "    if bill_train1[i] >=0:\n",
    "        bill_train1[i] = bill_train1[i]+1\n",
    "        bill_train1[i] = np.log(bill_train1[i])\n",
    "    else:\n",
    "        bill_train1[i] = bill_train1[i]*(-1)\n",
    "        bill_train1[i] = bill_train1[i]+1\n",
    "        bill_train1[i] = np.log(bill_train1[i])\n",
    "        bill_train1[i] = bill_train1[i]*(-1)\n",
    "for i in range(len(x_train['BILL_AMT2'])):\n",
    "    if bill_train2[i] >=0:\n",
    "        bill_train2[i] = bill_train2[i]+1\n",
    "        bill_train2[i] = np.log(bill_train2[i])\n",
    "    else:\n",
    "        bill_train2[i] = bill_train2[i]*(-1)\n",
    "        bill_train2[i] = bill_train2[i]+1\n",
    "        bill_train2[i] = np.log(bill_train2[i])\n",
    "        bill_train2[i] = bill_train2[i]*(-1)\n",
    "for i in range(len(x_train['BILL_AMT3'])):\n",
    "    if bill_train3[i] >=0:\n",
    "        bill_train3[i] = bill_train3[i]+1\n",
    "        bill_train3[i] = np.log(bill_train3[i])\n",
    "    else:\n",
    "        bill_train3[i] = bill_train3[i]*(-1)\n",
    "        bill_train3[i] = bill_train3[i]+1\n",
    "        bill_train3[i] = np.log(bill_train3[i])\n",
    "        bill_train3[i] = bill_train3[i]*(-1)\n",
    "for i in range(len(x_train['BILL_AMT4'])):\n",
    "    if bill_train4[i] >=0:\n",
    "        bill_train4[i] = bill_train4[i]+1\n",
    "        bill_train4[i] = np.log(bill_train4[i])\n",
    "    else:\n",
    "        bill_train4[i] = bill_train4[i]*(-1)\n",
    "        bill_train4[i] = bill_train4[i]+1\n",
    "        bill_train4[i] = np.log(bill_train4[i])\n",
    "        bill_train4[i] = bill_train4[i]*(-1)\n",
    "for i in range(len(x_train['BILL_AMT5'])):\n",
    "    if bill_train5[i] >=0:\n",
    "        bill_train5[i] = bill_train5[i]+1\n",
    "        bill_train5[i] = np.log(bill_train5[i])\n",
    "    else:\n",
    "        bill_train5[i] = bill_train5[i]*(-1)\n",
    "        bill_train5[i] = bill_train5[i]+1\n",
    "        bill_train5[i] = np.log(bill_train5[i])\n",
    "        bill_train5[i] = bill_train5[i]*(-1)\n",
    "for i in range(len(x_train['BILL_AMT6'])):\n",
    "    if bill_train6[i] >=0:\n",
    "        bill_train6[i] = bill_train6[i]+1\n",
    "        bill_train6[i] = np.log(bill_train6[i])\n",
    "    else:\n",
    "        bill_train6[i] = bill_train6[i]*(-1)\n",
    "        bill_train6[i] = bill_train6[i]+1\n",
    "        bill_train6[i] = np.log(bill_train6[i])\n",
    "        bill_train6[i] = bill_train6[i]*(-1)"
   ]
  },
  {
   "cell_type": "code",
   "execution_count": 7,
   "metadata": {},
   "outputs": [],
   "source": [
    "payamt_train1 = np.array(x_train['PAY_AMT1'])\n",
    "payamt_train2 = np.array(x_train['PAY_AMT2'])\n",
    "payamt_train3 = np.array(x_train['PAY_AMT3'])\n",
    "payamt_train4 = np.array(x_train['PAY_AMT4'])\n",
    "payamt_train5 = np.array(x_train['PAY_AMT5'])\n",
    "payamt_train6 = np.array(x_train['PAY_AMT6'])\n",
    "for i in range(len(x_train['PAY_AMT1'])):\n",
    "        payamt_train1[i] = payamt_train1[i]+1\n",
    "        payamt_train1[i] = np.log(payamt_train1[i])\n",
    "for i in range(len(x_train['PAY_AMT2'])):\n",
    "        payamt_train2[i] = payamt_train2[i]+1\n",
    "        payamt_train2[i] = np.log(payamt_train2[i])\n",
    "for i in range(len(x_train['PAY_AMT3'])):\n",
    "        payamt_train3[i] = payamt_train3[i]+1\n",
    "        payamt_train3[i] = np.log(payamt_train3[i])\n",
    "for i in range(len(x_train['PAY_AMT4'])):\n",
    "        payamt_train4[i] = payamt_train4[i]+1\n",
    "        payamt_train4[i] = np.log(payamt_train4[i])\n",
    "for i in range(len(x_train['PAY_AMT5'])):\n",
    "        payamt_train5[i] = payamt_train5[i]+1\n",
    "        payamt_train5[i] = np.log(payamt_train5[i])\n",
    "for i in range(len(x_train['PAY_AMT6'])):\n",
    "        payamt_train6[i] = payamt_train6[i]+1\n",
    "        payamt_train6[i] = np.log(payamt_train6[i])"
   ]
  },
  {
   "cell_type": "code",
   "execution_count": 8,
   "metadata": {},
   "outputs": [],
   "source": [
    "payamt_train1 = pd.DataFrame(payamt_train1, columns=['PAY_AMT1'])\n",
    "payamt_train2 = pd.DataFrame(payamt_train2, columns=['PAY_AMT2'])\n",
    "payamt_train3 = pd.DataFrame(payamt_train3, columns=['PAY_AMT3'])\n",
    "payamt_train4 = pd.DataFrame(payamt_train4, columns=['PAY_AMT4'])\n",
    "payamt_train5 = pd.DataFrame(payamt_train5, columns=['PAY_AMT5'])\n",
    "payamt_train6 = pd.DataFrame(payamt_train6, columns=['PAY_AMT6'])\n",
    "\n",
    "bill_train1 = pd.DataFrame(bill_train1, columns=['BILL_AMT1'])\n",
    "bill_train2 = pd.DataFrame(bill_train2, columns=['BILL_AMT2'])\n",
    "bill_train3 = pd.DataFrame(bill_train3, columns=['BILL_AMT3'])\n",
    "bill_train4 = pd.DataFrame(bill_train4, columns=['BILL_AMT4'])\n",
    "bill_train5 = pd.DataFrame(bill_train5, columns=['BILL_AMT5'])\n",
    "bill_train6 = pd.DataFrame(bill_train6, columns=['BILL_AMT6'])"
   ]
  },
  {
   "cell_type": "code",
   "execution_count": 9,
   "metadata": {},
   "outputs": [],
   "source": [
    "x_train = x_train.drop(['BILL_AMT1', 'BILL_AMT2', 'BILL_AMT3', 'BILL_AMT4', 'BILL_AMT5', 'BILL_AMT6',\n",
    "                        'PAY_AMT1', 'PAY_AMT2', 'PAY_AMT3', 'PAY_AMT4', 'PAY_AMT5', 'PAY_AMT6'], axis = 1)"
   ]
  },
  {
   "cell_type": "code",
   "execution_count": 10,
   "metadata": {},
   "outputs": [],
   "source": [
    "x_train['LIMIT_BAL'] = x_train['LIMIT_BAL'].apply(np.log)"
   ]
  },
  {
   "cell_type": "code",
   "execution_count": 11,
   "metadata": {},
   "outputs": [],
   "source": [
    "x_train = x_train.drop(['index'], axis = 1)"
   ]
  },
  {
   "cell_type": "code",
   "execution_count": 12,
   "metadata": {},
   "outputs": [],
   "source": [
    "x_train = pd.concat([x_train, pay_tr, bill_train1, bill_train2, bill_train3, bill_train4, bill_train5, bill_train6,\n",
    "                     payamt_train1, payamt_train2, payamt_train3, payamt_train4, payamt_train5, payamt_train6], axis = 1)"
   ]
  },
  {
   "cell_type": "code",
   "execution_count": 13,
   "metadata": {},
   "outputs": [],
   "source": [
    "x_train = x_train.drop(['PAY_0','PAY_2','PAY_3','PAY_4','PAY_5','PAY_6'], axis = 1)"
   ]
  },
  {
   "cell_type": "code",
   "execution_count": 14,
   "metadata": {},
   "outputs": [],
   "source": [
    "y_train = X[['default.payment.next.month']]"
   ]
  },
  {
   "cell_type": "code",
   "execution_count": 35,
   "metadata": {},
   "outputs": [
    {
     "name": "stdout",
     "output_type": "stream",
     "text": [
      "[50]\tcv_agg's auc: 0.782087 + 0.00563478\n",
      "[100]\tcv_agg's auc: 0.780001 + 0.00495809\n",
      "best n_estimators 51\n",
      "best cv score 0.7820990734635046\n"
     ]
    }
   ],
   "source": [
    "param ={'objective':'binary','metric':'auc',\n",
    "                                    'learning rate':0.05,\n",
    "                                    'num_leaves':40,\n",
    "                                    'max_depth':11,\n",
    "                                    'feature_fraction':0.95,\n",
    "                                    'bagging_fraction':0.9,\n",
    "       'colsample_bytree':0.7,\n",
    "       'lambda_l1':4,\n",
    "       'lambda_l2':1,\n",
    "       #'min_split_gain':0.05,\n",
    "       'min_child_weight':1\n",
    "       }\n",
    "train_data = lgb.Dataset(x_train,label=y_train['default.payment.next.month'])\n",
    "bst=lgb.cv(param,train_data,num_boost_round=1000,nfold=5,stratified=False,shuffle=True,early_stopping_rounds=50,verbose_eval=50,show_stdv=True)\n",
    "print('best n_estimators',len(bst['auc-mean']))\n",
    "print('best cv score',bst['auc-mean'][-1])"
   ]
  },
  {
   "cell_type": "code",
   "execution_count": 36,
   "metadata": {},
   "outputs": [
    {
     "name": "stdout",
     "output_type": "stream",
     "text": [
      "Accuracy1: 0.662 \n",
      "Precision1: 0.3792 \n",
      "Recall1: 0.8287 \n",
      "F1_1: 0.5203 \n",
      "AUC(train): 0.7217\n"
     ]
    }
   ],
   "source": [
    "litegb =lgb.train(param,train_data,num_boost_round=len(bst['auc-mean']))\n",
    "y_proba_train =litegb.predict(x_train)\n",
    "\n",
    "y_pred_train=[]\n",
    "for i in y_proba_train:\n",
    "    if i>0.15:\n",
    "        y_pred_train.append(1)\n",
    "    else:\n",
    "        y_pred_train.append(0)\n",
    "#va1=round(value_added(y_train,y_pred_train),4)\n",
    "#va2=round(value_added(y_test,y_pred),4)\n",
    "tn1,fp1,fn1,tp1 = confusion_matrix(y_train,y_pred_train).ravel()\n",
    "pre1 = round(metrics.precision_score(y_train,y_pred_train),4)\n",
    "rec1 = round(metrics.recall_score(y_train,y_pred_train),4)\n",
    "acc1 = round(metrics.accuracy_score(y_train,y_pred_train),4)\n",
    "f1_1 = round(metrics.f1_score(y_train,y_pred_train),4)\n",
    "auc1 = round(metrics.roc_auc_score(y_train,y_pred_train),4)\n",
    "\n",
    "print('Accuracy1:',acc1,\"\\nPrecision1:\",pre1,\"\\nRecall1:\",rec1,\"\\nF1_1:\",f1_1,\"\\nAUC(train):\",auc1)"
   ]
  },
  {
   "cell_type": "code",
   "execution_count": 17,
   "metadata": {},
   "outputs": [
    {
     "name": "stderr",
     "output_type": "stream",
     "text": [
      "C:\\Users\\Tomy\\lib\\site-packages\\sklearn\\utils\\validation.py:761: DataConversionWarning: A column-vector y was passed when a 1d array was expected. Please change the shape of y to (n_samples, ), for example using ravel().\n",
      "  y = column_or_1d(y, warn=True)\n"
     ]
    },
    {
     "data": {
      "text/plain": [
       "LogisticRegression(C=1000, class_weight=None, dual=False, fit_intercept=True,\n",
       "          intercept_scaling=1, max_iter=100, multi_class='warn',\n",
       "          n_jobs=None, penalty='l2', random_state=None, solver='liblinear',\n",
       "          tol=0.0001, verbose=0, warm_start=False)"
      ]
     },
     "execution_count": 17,
     "metadata": {},
     "output_type": "execute_result"
    }
   ],
   "source": [
    "classifier = LogisticRegression(C=1000, solver='liblinear', penalty='l2', random_state = None)  \n",
    "classifier.fit(x_train, y_train) "
   ]
  },
  {
   "cell_type": "code",
   "execution_count": 18,
   "metadata": {},
   "outputs": [
    {
     "name": "stdout",
     "output_type": "stream",
     "text": [
      "true_y==1 :6636\n",
      "pred_y==1 :3455\n",
      "Accuracy: 0.8214\n",
      "Precision: 0.6851\n",
      "Recall: 0.3567\n",
      "f1-score: 0.4691\n",
      "AUC:0.7766\n"
     ]
    },
    {
     "data": {
      "image/png": "[encoded data removed]",
      "text/plain": [
       "<Figure size 432x288 with 1 Axes>"
      ]
     },
     "metadata": {
      "needs_background": "light"
     },
     "output_type": "display_data"
    }
   ],
   "source": [
    "y_pred=classifier.predict(x_train)\n",
    "y_proba=classifier.predict_proba(x_train)[:,1]\n",
    "print('true_y==1 :'+str(np.count_nonzero(y_train)))\n",
    "print('pred_y==1 :'+str(len(y_pred[y_pred==1])))\n",
    "fpr, tpr, thresholds = metrics.roc_curve(y_train, y_proba, pos_label=1)\n",
    "AUC =round(auc(fpr, tpr),4)\n",
    "#print('AUC:'+str(AUC))\n",
    "print(\"Accuracy:\",round(metrics.accuracy_score(y_train, y_pred),4))\n",
    "print(\"Precision:\",round(metrics.precision_score(y_train, y_pred),4))\n",
    "print(\"Recall:\",round(metrics.recall_score(y_train, y_pred),4))\n",
    "print(\"f1-score:\",round(metrics.f1_score(y_train, y_pred),4))\n",
    "print('AUC:'+str(AUC))\n",
    "plt.plot(fpr,tpr,color='tomato')\n",
    "plt.plot([0,1],[0,1],color='cornflowerblue',lw=2, linestyle='--')\n",
    "plt.title('RNN+LogisticRegression'+'_Train(AUC:'+str(AUC)+')')\n",
    "plt.ylabel('True Positive Rate')\n",
    "plt.xlabel('False Positive Rate')\n",
    "plt.show()"
   ]
  },
  {
   "cell_type": "code",
   "execution_count": null,
   "metadata": {},
   "outputs": [],
   "source": []
  }
 ],
 "metadata": {
  "kernelspec": {
   "display_name": "Python 3",
   "language": "python",
   "name": "python3"
  },
  "language_info": {
   "codemirror_mode": {
    "name": "ipython",
    "version": 3
   },
   "file_extension": ".py",
   "mimetype": "text/x-python",
   "name": "python",
   "nbconvert_exporter": "python",
   "pygments_lexer": "ipython3",
   "version": "3.7.3"
  }
 },
 "nbformat": 4,
 "nbformat_minor": 2
}
